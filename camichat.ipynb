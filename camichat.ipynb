{
 "cells": [
  {
   "cell_type": "code",
   "execution_count": null,
   "id": "6f27e358",
   "metadata": {},
   "outputs": [
    {
     "name": "stdout",
     "output_type": "stream",
     "text": [
      "Requirement already satisfied: openai in c:\\users\\tiny\\code\\.venv\\lib\\site-packages (2.1.0)\n",
      "Requirement already satisfied: anyio<5,>=3.5.0 in c:\\users\\tiny\\code\\.venv\\lib\\site-packages (from openai) (4.11.0)\n",
      "Requirement already satisfied: distro<2,>=1.7.0 in c:\\users\\tiny\\code\\.venv\\lib\\site-packages (from openai) (1.9.0)\n",
      "Requirement already satisfied: httpx<1,>=0.23.0 in c:\\users\\tiny\\code\\.venv\\lib\\site-packages (from openai) (0.28.1)\n",
      "Requirement already satisfied: jiter<1,>=0.4.0 in c:\\users\\tiny\\code\\.venv\\lib\\site-packages (from openai) (0.11.0)\n",
      "Requirement already satisfied: pydantic<3,>=1.9.0 in c:\\users\\tiny\\code\\.venv\\lib\\site-packages (from openai) (2.11.10)\n",
      "Requirement already satisfied: sniffio in c:\\users\\tiny\\code\\.venv\\lib\\site-packages (from openai) (1.3.1)\n",
      "Requirement already satisfied: tqdm>4 in c:\\users\\tiny\\code\\.venv\\lib\\site-packages (from openai) (4.67.1)\n",
      "Requirement already satisfied: typing-extensions<5,>=4.11 in c:\\users\\tiny\\code\\.venv\\lib\\site-packages (from openai) (4.15.0)\n",
      "Requirement already satisfied: idna>=2.8 in c:\\users\\tiny\\code\\.venv\\lib\\site-packages (from anyio<5,>=3.5.0->openai) (3.10)\n",
      "Requirement already satisfied: certifi in c:\\users\\tiny\\code\\.venv\\lib\\site-packages (from httpx<1,>=0.23.0->openai) (2025.8.3)\n",
      "Requirement already satisfied: httpcore==1.* in c:\\users\\tiny\\code\\.venv\\lib\\site-packages (from httpx<1,>=0.23.0->openai) (1.0.9)\n",
      "Requirement already satisfied: h11>=0.16 in c:\\users\\tiny\\code\\.venv\\lib\\site-packages (from httpcore==1.*->httpx<1,>=0.23.0->openai) (0.16.0)\n",
      "Requirement already satisfied: annotated-types>=0.6.0 in c:\\users\\tiny\\code\\.venv\\lib\\site-packages (from pydantic<3,>=1.9.0->openai) (0.7.0)\n",
      "Requirement already satisfied: pydantic-core==2.33.2 in c:\\users\\tiny\\code\\.venv\\lib\\site-packages (from pydantic<3,>=1.9.0->openai) (2.33.2)\n",
      "Requirement already satisfied: typing-inspection>=0.4.0 in c:\\users\\tiny\\code\\.venv\\lib\\site-packages (from pydantic<3,>=1.9.0->openai) (0.4.2)\n",
      "Requirement already satisfied: colorama in c:\\users\\tiny\\code\\.venv\\lib\\site-packages (from tqdm>4->openai) (0.4.6)\n",
      "Note: you may need to restart the kernel to use updated packages.\n"
     ]
    }
   ],
   "source": [
    "!pip install openai python-dotenv gradio"
   ]
  },
  {
   "cell_type": "code",
   "execution_count": null,
   "id": "fde73cd6",
   "metadata": {},
   "outputs": [
    {
     "name": "stderr",
     "output_type": "stream",
     "text": [
      "c:\\Users\\tiny\\Code\\.venv\\Lib\\site-packages\\tqdm\\auto.py:21: TqdmWarning: IProgress not found. Please update jupyter and ipywidgets. See https://ipywidgets.readthedocs.io/en/stable/user_install.html\n",
      "  from .autonotebook import tqdm as notebook_tqdm\n"
     ]
    }
   ],
   "source": [
    "from dotenv import load_dotenv\n",
    "import os, time, gradio as gr\n",
    "from openai import OpenAI\n",
    "\n",
    "load_dotenv(override=True)"
   ]
  },
  {
   "cell_type": "markdown",
   "id": "f3aa0f14",
   "metadata": {},
   "source": [
    "### Configuración de modelos en la nube"
   ]
  },
  {
   "cell_type": "code",
   "execution_count": 50,
   "id": "7032ff62",
   "metadata": {},
   "outputs": [],
   "source": [
    "from collections import namedtuple\n",
    "from functools import reduce\n",
    "\n",
    "Provider = namedtuple('Provider', ['name', 'base_url', 'api_key', 'models'])\n",
    "Task = namedtuple('Task', ['name', 'prompt'])\n",
    "\n",
    "providers = [\n",
    "    Provider(\n",
    "        'open_router', 'https://openrouter.ai/api/v1', 'OPEN_ROUTER_API_KEY',\n",
    "        [\"gpt-3.5-turbo\", \"deepseek/deepseek-r1:free\", \"gpt-4o-mini\", \"meta-llama/llama-3.1-8b-instruct:free\"]\n",
    "    ),\n",
    "    Provider(\n",
    "        'gemini', 'https://generativelanguage.googleapis.com/v1beta/openai/', 'GEMINI_API_KEY',\n",
    "        [\"gemini-2.5-flash\", \"gemini-2.5-pro\"]\n",
    "    ),\n",
    "    Provider(\n",
    "        'groq', 'https://api.groq.com/openai/v1', 'GROQ_API_KEY',\n",
    "        [\"llama-3.3-70b-versatile\"]\n",
    "    ),\n",
    "]\n",
    "\n",
    "tasks = [\n",
    "    Task('translation', 'translate the following text to spanish, provide only the translation: processing_text'),\n",
    "    Task('summarization', 'summarize the following text to number_of_words words, provide only the summarization: processing_text')\n",
    "]\n",
    "\n",
    "model_names = list(reduce(lambda x, y: [*x, *y], map(lambda x: x.models, providers), []))\n",
    "task_names = list(map(lambda x: x.name, tasks))"
   ]
  },
  {
   "cell_type": "code",
   "execution_count": 51,
   "id": "a0683b69",
   "metadata": {},
   "outputs": [],
   "source": [
    "import time\n",
    "\n",
    "def get_prompt(task_name, text, number_of_words=None):\n",
    "    task = next(filter(lambda x: x.name == task_name, tasks))\n",
    "    prompt: str = task.prompt\n",
    "    prompt = prompt.replace('number_of_words', str(number_of_words))\n",
    "    prompt = prompt.replace('processing_text', text)\n",
    "    return prompt\n",
    "\n",
    "def get_provider_api(model):\n",
    "    provider = next(filter(lambda x: model in x.models, providers))\n",
    "    api_key = os.getenv(provider.api_key)\n",
    "    api = OpenAI(api_key=api_key, base_url=provider.base_url)\n",
    "    return api\n",
    "\n",
    "\n",
    "def process_text(model, task, text, number_of_words=None):\n",
    "    if not text.strip():\n",
    "        return \"Provide a text please...\"\n",
    "    \n",
    "    start_time = time.time()\n",
    "    prompt = get_prompt(task, text, number_of_words)\n",
    "    \n",
    "    try:\n",
    "        provider_api = get_provider_api(model)\n",
    "        response = provider_api.chat.completions.create(\n",
    "            model=model,\n",
    "            messages=[{'role': 'user', 'content': prompt}],\n",
    "            max_tokens=number_of_words\n",
    "        )\n",
    "    except Exception as e:\n",
    "        return f\"⚠️ Error connecting to {provider_api.base_url}: {str(e)}\"\n",
    "\n",
    "    output = response.choices[0].message.content\n",
    "    end_time = time.time()\n",
    "    elapsed = round(end_time - start_time, 2)\n",
    "    return output, f'{elapsed}s'\n"
   ]
  },
  {
   "cell_type": "markdown",
   "id": "d053dab6",
   "metadata": {},
   "source": [
    "### Interfaz con gradio"
   ]
  },
  {
   "cell_type": "code",
   "execution_count": null,
   "id": "21a34e07",
   "metadata": {},
   "outputs": [
    {
     "name": "stdout",
     "output_type": "stream",
     "text": [
      "* Running on local URL:  http://127.0.0.1:7893\n",
      "* To create a public link, set `share=True` in `launch()`.\n"
     ]
    },
    {
     "data": {
      "text/html": [
       "<div><iframe src=\"http://127.0.0.1:7893/\" width=\"100%\" height=\"500\" allow=\"autoplay; camera; microphone; clipboard-read; clipboard-write;\" frameborder=\"0\" allowfullscreen></iframe></div>"
      ],
      "text/plain": [
       "<IPython.core.display.HTML object>"
      ]
     },
     "metadata": {},
     "output_type": "display_data"
    },
    {
     "data": {
      "text/plain": []
     },
     "execution_count": 56,
     "metadata": {},
     "output_type": "execute_result"
    }
   ],
   "source": [
    "css = \"\"\"\n",
    "#title {\n",
    "    text-align: center;\n",
    "}\n",
    "\n",
    ".contain {\n",
    "    display: flex;\n",
    "    justify-content: center;\n",
    "    align-items: center;\n",
    "}\n",
    "\"\"\"\n",
    "\n",
    "with gr.Blocks(css=css) as demo:\n",
    "  with gr.Column(elem_id='app'):\n",
    "    with gr.Column():\n",
    "        gr.Markdown('# ChatMC', elem_id='title')\n",
    "        \n",
    "        with gr.Row():\n",
    "            with gr.Column():\n",
    "                input = gr.TextArea(placeholder='Input text...', label='Input')\n",
    "\n",
    "            with gr.Column():\n",
    "                output = gr.TextArea(\n",
    "                    placeholder='Output will appear here...', \n",
    "                    label='Output', \n",
    "                    show_copy_button=True\n",
    "                )\n",
    "\n",
    "        with gr.Row(equal_height=True):\n",
    "            with gr.Column():\n",
    "                process_button = gr.Button(\"Process\")\n",
    "            with gr.Row(equal_height=True):\n",
    "                elapsed_time = gr.Label(label='Processing time')\n",
    "                use_as_input = gr.Button('Use as Input')\n",
    "        \n",
    "        with gr.Row():\n",
    "            model = gr.Dropdown(model_names, label=\"Model\")\n",
    "            task = gr.Dropdown(task_names, label='Task')\n",
    "            number_of_words = gr.Number(None, label='Max number of words')\n",
    "    \n",
    "    use_as_input.click(lambda x: x, inputs=[output], outputs=[input])\n",
    "\n",
    "    \n",
    "    process_button.click(process_text, inputs=[model, task, input, number_of_words], outputs=[output, elapsed_time])\n",
    "\n",
    "demo.launch()"
   ]
  },
  {
   "cell_type": "code",
   "execution_count": null,
   "id": "538886d6",
   "metadata": {},
   "outputs": [],
   "source": []
  }
 ],
 "metadata": {
  "kernelspec": {
   "display_name": ".venv (3.13.7)",
   "language": "python",
   "name": "python3"
  },
  "language_info": {
   "codemirror_mode": {
    "name": "ipython",
    "version": 3
   },
   "file_extension": ".py",
   "mimetype": "text/x-python",
   "name": "python",
   "nbconvert_exporter": "python",
   "pygments_lexer": "ipython3",
   "version": "3.13.7"
  }
 },
 "nbformat": 4,
 "nbformat_minor": 5
}
